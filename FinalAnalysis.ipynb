{
 "cells": [
  {
   "cell_type": "markdown",
   "id": "1dc1ab77-d6ea-487e-be51-64face7d8ffb",
   "metadata": {},
   "source": [
    "## Conclusion\n",
    "The total ranking for the overall safest neighborhood was determined by how well-educated the area is, how many arrests there were, how much income there is in the area, and what the median home value is. This means that the the highest ranked neighborhood would have the most wealth, the least crime, and the people would be the most educated.\n",
    "The rankings are shown here:"
   ]
  },
  {
   "cell_type": "markdown",
   "id": "e460dd29-11b7-4d62-b782-93c54369c08f",
   "metadata": {},
   "source": [
    "| Neighborhoods (Ranked) | Total Points | Education | Median Home Value | Aggregate Income | Arrests |\n",
    "|:-----------------------:|:------------:|:-------:|:-:|:-:|:-:|\n",
    "| Shadyside | 22 | 3 | 6 | 2 | 11 |\n",
    "| Squirrel Hill North | 25 | 10 | 1 | 3 | 11 |\n",
    "| Squirrel Hill South | 27 | 8 | 7 | 1 | 11 |\n",
    "| Strip District | 27 | 2 | 3 | 11 | 11 |\n",
    "| Allegheny West | 28 | 1 | 5 | 11 | 11 |\n",
    "| North Oakland | 31 | 7 | 2 | 11 | 11 |\n",
    "| Point Breeze | 31 | 11 | 4 | 5 | 11 |\n",
    "| Mt. Oliver Neighborhood | 34 | 11 | 11 | 11 | 1 |\n",
    "| Friendship | 34 | 4 | 8 | 11 | 11 |\n",
    "| Troy Hill-Herrs Island | 35 | 11 | 11 | 11 | 2 |\n",
    "| Mt. Oliver Boro | 36 | 11 | 11 | 11 | 3 |\n",
    "| Brookline | 37 | 11 | 11 | 4 | 11 |\n",
    "| Central Northside | 37 | 11 | 11 | 11 | 4 |\n",
    "| Regent Square | 37 | 11 | 9 | 11 | 6 |\n",
    "| Point Breeze North | 38 | 5 |  11 | 11 | 11 |\n",
    "| South Side Flats | 38 | 6 | 11 | 10 | 11 |\n",
    "| Ridgemont | 38 | 11 | 11 | 11 | 5 |\n",
    "| Mount Washington| 39 | 11 | 11 | 6 | 11 |\n",
    "| Highland Park | 40 | 11 | 10 | 8 | 11 |\n",
    "| Bloomfield | 40 | 11 |  11 | 7 | 11 |\n",
    "| New Homestead | 40 | 11 | 11 | 11 | 7 |\n",
    "| Swisshelm Park| 41 | 11 | 11 | 11 | 8 |\n",
    "| West End| 42 | 9 | 11 | 11 | 11 |\n",
    "| Greenfield| 42 | 11 | 11 | 9 | 11 |\n",
    "| Chartiers City | 42 | 11 | 11 | 11 | 9 |\n",
    "| East Carnegie | 43 | 11 | 11 | 11 | 10 |\n"
   ]
  },
  {
   "cell_type": "markdown",
   "id": "bd29ef53-4326-4e70-b90f-03208e4dfa69",
   "metadata": {},
   "source": [
    "This ranking was determined by adding the positions of each neighborhood from the top 10 of each submetric. If a neighborhood was not located on a specific list, it was automatically assigned an 11. "
   ]
  },
  {
   "cell_type": "markdown",
   "id": "dc63426a-f669-43b2-bb0a-96ee9a9726a3",
   "metadata": {},
   "source": [
    "## Based on each of our submetrics, the best neighborhood to live in in Pittsburgh is:\n",
    "#                                               <font color=\"green\">Shadyside</font>\n"
   ]
  },
  {
   "cell_type": "code",
   "execution_count": null,
   "id": "25fc93cd-0746-49dc-8f79-6f78dcbb9e23",
   "metadata": {},
   "outputs": [],
   "source": []
  }
 ],
 "metadata": {
  "kernelspec": {
   "display_name": "Python 3 (ipykernel)",
   "language": "python",
   "name": "python3"
  },
  "language_info": {
   "codemirror_mode": {
    "name": "ipython",
    "version": 3
   },
   "file_extension": ".py",
   "mimetype": "text/x-python",
   "name": "python",
   "nbconvert_exporter": "python",
   "pygments_lexer": "ipython3",
   "version": "3.12.4"
  }
 },
 "nbformat": 4,
 "nbformat_minor": 5
}
