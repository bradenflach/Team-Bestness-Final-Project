"Introduction"
"# We started our project by thinking of what metrics we felt would lead us to picking the overall best neighborhood in Pittsburgh. We first thought about possibly looking into weather data or air quality but felt like that would be hard to determine because a lot of the neighborhoods would share very similar data for metrics like that. We then transitioned and decided to look into metrics that would have more variability between neighborhood lines so we decided that the best metrics to provide evidence for the overall safest and best neighborhood was by how well-educated the area is, how many arrests there were, how much income there is in the area, and what the median home value is. We figured that with Pittsburgh being a rapidly growing and changing city if people were looking at were to move their family or just themselves if they are young professionals they would want an area where they feel safe as well that has a true Pittsburgh feel. Living in an area with a lot of similarly well educated people is a great way to form connections as well as network for a career. We felt that eduacation was a strong metric for this reason. Median home value and Income are a similar metric. With Pittsburgh being an older city a lot of the homes are very old and historic. typically theolder the home if it is still in good condition the more expensive and sought after that home Will be. Income fits into this well. The more income one person has the higher chnaces they will be able to afford a home in our neighborhood. Finally this leaves us witht the metric of safety. we used an arrest dataset to determine the safety of the neighborhods we were looking at. With arrest and incident counts we were able to determine the average arrest count per year of each neighborhood in Pittsburgh.AFter completing our analysis we Determined that the overall best neighborhood in Pittsburgh to live in is Shadyside. After combing all of our metrics and assinging weights to their overall value in each category we looked at Shady side was the overall best score out of all neighborhoods" 
"# Shadyside does happen to be my favorite neighborhood in Pittsburgh. The amount of shops and restaurants as well as the architecture of the homes. I also work in Shadysie at a restaurant called Noodlehead, so I have a little bias. I'm honestly not surprised that Shadyside scored best for our metrics just based on what I know about the neighborhood. Shadyside is one of the fastest-growing neighborhoods in Pittsburgh with a lot of young professionals and post-grad students moving their to try and start their adult lives and careers."
{
 "cells": [
  {
   "cell_type": "markdown",
   "id": "1dc1ab77-d6ea-487e-be51-64face7d8ffb",
   "metadata": {},
   "source": [
    "## Conclusion\n",
    "The total ranking for the overall safest neighborhood was determined by how well-educated the area is, how many arrests there were, how much income there is in the area, and what the median home value is. This means that the the highest ranked neighborhood would have the most wealth, the least crime, and the people would be the most educated.\n",
    "The rankings are shown here:"
   ]
  },
  {
   "cell_type": "markdown",
   "id": "e460dd29-11b7-4d62-b782-93c54369c08f",
   "metadata": {},
   "source": [
    "| Neighborhoods (Ranked) | Total Points | Education | Median Home Value | Aggregate Income | Arrests |\n",
    "|:-----------------------:|:------------:|:-------:|:-:|:-:|:-:|\n",
    "| Shadyside | 22 | 3 | 6 | 2 | 11 |\n",
    "| Squirrel Hill North | 25 | 10 | 1 | 3 | 11 |\n",
    "| Squirrel Hill South | 27 | 8 | 7 | 1 | 11 |\n",
    "| Strip District | 27 | 2 | 3 | 11 | 11 |\n",
    "| Allegheny West | 28 | 1 | 5 | 11 | 11 |\n",
    "| North Oakland | 31 | 7 | 2 | 11 | 11 |\n",
    "| Point Breeze | 31 | 11 | 4 | 5 | 11 |\n",
    "| Mt. Oliver Neighborhood | 34 | 11 | 11 | 11 | 1 |\n",
    "| Friendship | 34 | 4 | 8 | 11 | 11 |\n",
    "| Troy Hill-Herrs Island | 35 | 11 | 11 | 11 | 2 |\n",
    "| Mt. Oliver Boro | 36 | 11 | 11 | 11 | 3 |\n",
    "| Brookline | 37 | 11 | 11 | 4 | 11 |\n",
    "| Central Northside | 37 | 11 | 11 | 11 | 4 |\n",
    "| Regent Square | 37 | 11 | 9 | 11 | 6 |\n",
    "| Point Breeze North | 38 | 5 |  11 | 11 | 11 |\n",
    "| South Side Flats | 38 | 6 | 11 | 10 | 11 |\n",
    "| Ridgemont | 38 | 11 | 11 | 11 | 5 |\n",
    "| Mount Washington| 39 | 11 | 11 | 6 | 11 |\n",
    "| Highland Park | 40 | 11 | 10 | 8 | 11 |\n",
    "| Bloomfield | 40 | 11 |  11 | 7 | 11 |\n",
    "| New Homestead | 40 | 11 | 11 | 11 | 7 |\n",
    "| Swisshelm Park| 41 | 11 | 11 | 11 | 8 |\n",
    "| West End| 42 | 9 | 11 | 11 | 11 |\n",
    "| Greenfield| 42 | 11 | 11 | 9 | 11 |\n",
    "| Chartiers City | 42 | 11 | 11 | 11 | 9 |\n",
    "| East Carnegie | 43 | 11 | 11 | 11 | 10 |\n"
   ]
  },
  {
   "cell_type": "markdown",
   "id": "bd29ef53-4326-4e70-b90f-03208e4dfa69",
   "metadata": {},
   "source": [
    "This ranking was determined by adding the positions of each neighborhood from the top 10 of each submetric. If a neighborhood was not located on a specific list, it was automatically assigned an 11. "
   ]
  },
  {
   "cell_type": "markdown",
   "id": "dc63426a-f669-43b2-bb0a-96ee9a9726a3",
   "metadata": {},
   "source": [
    "## Based on each of our submetrics, the best neighborhood to live in in Pittsburgh is:\n",
    "#                                               <font color=\"green\">Shadyside</font>\n"
   ]
  },
  {
   "cell_type": "code",
   "execution_count": null,
   "id": "25fc93cd-0746-49dc-8f79-6f78dcbb9e23",
   "metadata": {},
   "outputs": [],
   "source": []
  }
 ],
 "metadata": {
  "kernelspec": {
   "display_name": "Python 3 (ipykernel)",
   "language": "python",
   "name": "python3"
  },
  "language_info": {
   "codemirror_mode": {
    "name": "ipython",
    "version": 3
   },
   "file_extension": ".py",
   "mimetype": "text/x-python",
   "name": "python",
   "nbconvert_exporter": "python",
   "pygments_lexer": "ipython3",
   "version": "3.12.4"
  }
 },
 "nbformat": 4,
 "nbformat_minor": 5
}
