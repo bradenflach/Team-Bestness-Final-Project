{
 "cells": [
  {
   "cell_type": "markdown",
   "id": "6943ff05-c6f2-45c4-8f6e-b7a1e623876c",
   "metadata": {},
   "source": [
    "# Introduction\r\n",
    "We started our project by thinking of what metrics we felt would lead us to pick the overall best neighborhood in Pittsburgh. We first thought about possibly looking into weather data or air quality but felt like that would be hard to determine because a lot of the neighborhoods would share very similar data for metrics like that. We then transitioned and decided to look into metrics that would have more variability between neighborhood line.sWwethen  decided that the best metrics to provide evidence for the overall safest and best neighborhood were how well-educated the area is, how many arrests there were, how much income there is in the area, and what the median home value is. Pittsburghisg a rapidly growing and changing cit.yWe figured that  if people were looking at where to move their famil,y or just themselve,sor  if they are young professional,s they would want an area where they feel saf while maintainings a true Pittsburgh feel. Living in an area with a lot of similarly well-educated people is a great way to form connections as well as network fro a career. We felt that education was a strong metric for this reason. Median home value andincome are similar metricsc. With Pittsburgh being an older cit,y a lot of the homes are very old and historic.Ttypically the older the hom,ethe more expensive and sought after that home will be if it is still in good conditione. Income fits into this well. The more income one person has the higher chances they will be able to afford a home in our neighborhood. Finally, this leaves us with the metric of safety. We used an arrest dataset to determine the safety of the neighborhoods we were looking at. With arrest and incident counts we were able to determine the average arrest count per year of each neighborhood in Pittsburgh. After completing our analysi,s wedDetermined that the overall best neighborhood in Pittsburgh to live in is Shadyside. After combninng all of our metrics and assigning weights to their overall value in each categor,y we looked at Shad side as the overall best score out of all neighborhoods.\n",
    "* Carlton - Shadyside does happen to be my favorite neighborhood in Pittsburgh. The amount of shops and restaurants as well as the architecture of the homes. I also work in Shadyside at a restaurant called Noodlehead, so I have a little bias. I'm honestly not surprised that Shadyside scored best for our metrics just based on what I know about the neighborhood. Shadyside is one of the fastest growing neighborhoods in Pittsburgh with a lot of young professionals and post-grad students moving there to try and start their adult lives and careers. r"
   ]
  },
  {
   "cell_type": "code",
   "execution_count": 1,
   "id": "f1958cf4-56da-4b3b-b6ea-f6ff9de71234",
   "metadata": {},
   "outputs": [
    {
     "ename": "ModuleNotFoundError",
     "evalue": "No module named 'seaborn'",
     "output_type": "error",
     "traceback": [
      "\u001b[0;31m---------------------------------------------------------------------------\u001b[0m",
      "\u001b[0;31mModuleNotFoundError\u001b[0m                       Traceback (most recent call last)",
      "Cell \u001b[0;32mIn[1], line 2\u001b[0m\n\u001b[1;32m      1\u001b[0m \u001b[38;5;28;01mimport\u001b[39;00m \u001b[38;5;21;01mpandas\u001b[39;00m \u001b[38;5;28;01mas\u001b[39;00m \u001b[38;5;21;01mpd\u001b[39;00m \n\u001b[0;32m----> 2\u001b[0m \u001b[38;5;28;01mimport\u001b[39;00m \u001b[38;5;21;01mseaborn\u001b[39;00m \u001b[38;5;28;01mas\u001b[39;00m \u001b[38;5;21;01msns\u001b[39;00m\n\u001b[1;32m      3\u001b[0m \u001b[38;5;28;01mimport\u001b[39;00m \u001b[38;5;21;01mnumpy\u001b[39;00m \u001b[38;5;28;01mas\u001b[39;00m \u001b[38;5;21;01mnp\u001b[39;00m\n\u001b[1;32m      4\u001b[0m \u001b[38;5;28;01mimport\u001b[39;00m \u001b[38;5;21;01mmatplotlib\u001b[39;00m\u001b[38;5;21;01m.\u001b[39;00m\u001b[38;5;21;01mpyplot\u001b[39;00m \u001b[38;5;28;01mas\u001b[39;00m \u001b[38;5;21;01mplt\u001b[39;00m\n",
      "\u001b[0;31mModuleNotFoundError\u001b[0m: No module named 'seaborn'"
     ]
    }
   ],
   "source": [
    "import pandas as pd \n",
    "import seaborn as sns\n",
    "import numpy as np\n",
    "import matplotlib.pyplot as plt\n",
    "from sklearn.model_selection import train_test_split\n",
    "from sklearn.linear_model import LinearRegression\n",
    "from sklearn.metrics import mean_squared_error, r2_score\n",
    "from sklearn.preprocessing import PolynomialFeatures"
   ]
  },
  {
   "cell_type": "code",
   "execution_count": 4,
   "id": "53e6e473-9c63-4f4a-8535-93ae6a50806c",
   "metadata": {},
   "outputs": [
    {
     "data": {
      "text/plain": [
       "(   _id       PK       CCR   AGE GENDER RACE           ARRESTTIME  \\\n",
       " 0    1  1975272  16158872  42.0      F    B  2016-08-24T12:20:00   \n",
       " 1    2  1974456  16144120  31.0      M    W  2016-08-03T14:55:00   \n",
       " 2    3  1974466  16144165  63.0      F    B  2016-08-03T16:45:00   \n",
       " 3    4  1974550  16145257  25.0      F    W  2016-08-05T02:36:00   \n",
       " 4    5  1974596  16145962  25.0      M    B  2016-08-06T02:00:00   \n",
       " \n",
       "                                      ARRESTLOCATION  \\\n",
       " 0         4700 Block Centre AV Pittsburgh, PA 15213   \n",
       " 1  4200 Block Steubenville PKE Pittsburgh, PA 15205   \n",
       " 2        900 Block Freeport RD Fox Chapel, PA 15238   \n",
       " 3       Foreland ST & Cedar AV Pittsburgh, PA 15212   \n",
       " 4         900 Block Woodlow ST Pittsburgh, PA 15205   \n",
       " \n",
       "                                             OFFENSES  \\\n",
       " 0                                 3929 Retail Theft.   \n",
       " 1       13(a)(16) Possession of Controlled Substance   \n",
       " 2                                 3929 Retail Theft.   \n",
       " 3  5503 Disorderly Conduct. / 5505 Public Drunken...   \n",
       " 4  2702 Aggravated Assault. / 2705 Recklessy Enda...   \n",
       " \n",
       "                                    INCIDENTLOCATION INCIDENTNEIGHBORHOOD  \\\n",
       " 0         4700 Block Centre AV Pittsburgh, PA 15213           Bloomfield   \n",
       " 1  4200 Block Steubenville PKE Pittsburgh, PA 15205         Outside City   \n",
       " 2        900 Block Freeport RD Fox Chapel, PA 15238             Westwood   \n",
       " 3       Foreland ST & Cedar AV Pittsburgh, PA 15212       East Allegheny   \n",
       " 4         900 Block Woodlow ST Pittsburgh, PA 15205      Crafton Heights   \n",
       " \n",
       "   INCIDENTZONE  INCIDENTTRACT  COUNCIL_DISTRICT  PUBLIC_WORKS_DIVISION  \\\n",
       " 0            5          804.0               8.0                    2.0   \n",
       " 1          OSC         5599.0               NaN                    NaN   \n",
       " 2            5         2811.0               9.0                    2.0   \n",
       " 3            1         2304.0               1.0                    1.0   \n",
       " 4            5         2814.0               2.0                    5.0   \n",
       " \n",
       "            X          Y  \n",
       " 0 -79.949277  40.452551  \n",
       " 1 -80.088018  40.440136  \n",
       " 2 -79.891803  40.486625  \n",
       " 3 -80.001939  40.454080  \n",
       " 4 -80.052204  40.445900  ,\n",
       " Index(['_id', 'PK', 'CCR', 'AGE', 'GENDER', 'RACE', 'ARRESTTIME',\n",
       "        'ARRESTLOCATION', 'OFFENSES', 'INCIDENTLOCATION',\n",
       "        'INCIDENTNEIGHBORHOOD', 'INCIDENTZONE', 'INCIDENTTRACT',\n",
       "        'COUNCIL_DISTRICT', 'PUBLIC_WORKS_DIVISION', 'X', 'Y'],\n",
       "       dtype='object'))"
      ]
     },
     "execution_count": 4,
     "metadata": {},
     "output_type": "execute_result"
    }
   ],
   "source": [
    "file_path = 'arrest.csv' # Load the dataset to examine structure and check columns\n",
    "df = pd.read_csv(file_path)\n",
    "\n",
    "df.head(), df.columns # Display the first few rows and column names "
   ]
  },
  {
   "cell_type": "code",
   "execution_count": 6,
   "id": "9f045052-798b-4ddd-b2fb-e4cef89ba31f",
   "metadata": {},
   "outputs": [
    {
     "data": {
      "text/plain": [
       "INCIDENTNEIGHBORHOOD    Mt. Oliver Neighborhood\n",
       "arrest_count                                  2\n",
       "Name: 57, dtype: object"
      ]
     },
     "execution_count": 6,
     "metadata": {},
     "output_type": "execute_result"
    }
   ],
   "source": [
    "# Calculate the average number of arrests per neighborhood\n",
    "neighborhood_arrest_counts = df.groupby('INCIDENTNEIGHBORHOOD').size().reset_index(name='arrest_count')\n",
    "\n",
    "# Find the neighborhood with the least average arrest count\n",
    "least_arrests_neighborhood = neighborhood_arrest_counts.loc[neighborhood_arrest_counts['arrest_count'].idxmin()]\n",
    "\n",
    "least_arrests_neighborhood"
   ]
  },
  {
   "cell_type": "code",
   "execution_count": 8,
   "id": "dfe26425-4bdb-4de1-b801-d0c82a0bbf86",
   "metadata": {},
   "outputs": [
    {
     "data": {
      "text/html": [
       "<div>\n",
       "<style scoped>\n",
       "    .dataframe tbody tr th:only-of-type {\n",
       "        vertical-align: middle;\n",
       "    }\n",
       "\n",
       "    .dataframe tbody tr th {\n",
       "        vertical-align: top;\n",
       "    }\n",
       "\n",
       "    .dataframe thead th {\n",
       "        text-align: right;\n",
       "    }\n",
       "</style>\n",
       "<table border=\"1\" class=\"dataframe\">\n",
       "  <thead>\n",
       "    <tr style=\"text-align: right;\">\n",
       "      <th></th>\n",
       "      <th>INCIDENTNEIGHBORHOOD</th>\n",
       "      <th>arrest_count</th>\n",
       "    </tr>\n",
       "  </thead>\n",
       "  <tbody>\n",
       "    <tr>\n",
       "      <th>57</th>\n",
       "      <td>Mt. Oliver Neighborhood</td>\n",
       "      <td>2</td>\n",
       "    </tr>\n",
       "    <tr>\n",
       "      <th>91</th>\n",
       "      <td>Troy Hill-Herrs Island</td>\n",
       "      <td>6</td>\n",
       "    </tr>\n",
       "    <tr>\n",
       "      <th>56</th>\n",
       "      <td>Mt. Oliver Boro</td>\n",
       "      <td>18</td>\n",
       "    </tr>\n",
       "    <tr>\n",
       "      <th>19</th>\n",
       "      <td>Central Northside</td>\n",
       "      <td>23</td>\n",
       "    </tr>\n",
       "    <tr>\n",
       "      <th>72</th>\n",
       "      <td>Regent Square</td>\n",
       "      <td>37</td>\n",
       "    </tr>\n",
       "    <tr>\n",
       "      <th>73</th>\n",
       "      <td>Ridgemont</td>\n",
       "      <td>37</td>\n",
       "    </tr>\n",
       "    <tr>\n",
       "      <th>58</th>\n",
       "      <td>New Homestead</td>\n",
       "      <td>39</td>\n",
       "    </tr>\n",
       "    <tr>\n",
       "      <th>88</th>\n",
       "      <td>Swisshelm Park</td>\n",
       "      <td>43</td>\n",
       "    </tr>\n",
       "    <tr>\n",
       "      <th>21</th>\n",
       "      <td>Chartiers City</td>\n",
       "      <td>46</td>\n",
       "    </tr>\n",
       "    <tr>\n",
       "      <th>27</th>\n",
       "      <td>East Carnegie</td>\n",
       "      <td>48</td>\n",
       "    </tr>\n",
       "  </tbody>\n",
       "</table>\n",
       "</div>"
      ],
      "text/plain": [
       "       INCIDENTNEIGHBORHOOD  arrest_count\n",
       "57  Mt. Oliver Neighborhood             2\n",
       "91   Troy Hill-Herrs Island             6\n",
       "56          Mt. Oliver Boro            18\n",
       "19        Central Northside            23\n",
       "72            Regent Square            37\n",
       "73                Ridgemont            37\n",
       "58            New Homestead            39\n",
       "88           Swisshelm Park            43\n",
       "21           Chartiers City            46\n",
       "27            East Carnegie            48"
      ]
     },
     "execution_count": 8,
     "metadata": {},
     "output_type": "execute_result"
    }
   ],
   "source": [
    "# Sort neighborhoods by arrest count and select the 10 with the lowest average arrests\n",
    "lowest_10 = neighborhood_arrest_counts.nsmallest(10, 'arrest_count')\n",
    "lowest_10"
   ]
  },
  {
   "cell_type": "code",
   "execution_count": 54,
   "id": "ad1b55b3-59ee-4a2a-ad7d-5fb585769d74",
   "metadata": {},
   "outputs": [
    {
     "name": "stderr",
     "output_type": "stream",
     "text": [
      "C:\\Users\\carlg\\AppData\\Local\\Temp\\ipykernel_22760\\1092947115.py:6: FutureWarning: \n",
      "\n",
      "Passing `palette` without assigning `hue` is deprecated and will be removed in v0.14.0. Assign the `y` variable to `hue` and set `legend=False` for the same effect.\n",
      "\n",
      "  sns.barplot(\n"
     ]
    },
    {
     "data": {
      "image/png": "[encoded data removed]",
      "text/plain": [
       "<Figure size 1000x600 with 1 Axes>"
      ]
     },
     "metadata": {},
     "output_type": "display_data"
    }
   ],
   "source": [
    "# Sort neighborhoods by arrest count and select the 10 with the lowest average arrests\n",
    "lowest_10 = neighborhood_incident_counts.nsmallest(10, 'incident_count')\n",
    "\n",
    "# Create the barplot\n",
    "plt.figure(figsize=(10, 6))\n",
    "sns.barplot(\n",
    "    data=lowest_10,\n",
    "    y='INCIDENTNEIGHBORHOOD',\n",
    "    x='incident_count',\n",
    "    palette=\"Greens_r\"\n",
    ")\n",
    "plt.title('10 Neighborhoods with the Lowest Arrest Counts in Pittsburgh', fontsize=16)\n",
    "plt.xlabel('Arrest Counts', fontsize=14)\n",
    "plt.ylabel('Neighborhood', fontsize=14)\n",
    "plt.tight_layout()\n",
    "plt.show()\n"
   ]
  },
  {
   "cell_type": "code",
   "execution_count": 52,
   "id": "10a03f01-6630-4e1b-81f4-4f166f77fc8e",
   "metadata": {},
   "outputs": [
    {
     "name": "stdout",
     "output_type": "stream",
     "text": [
      "    Edu__Attainment__Bachelor_s_Deg Neighborhood_2010_HOOD\n",
      "55                             44.8         Allegheny West\n",
      "4                              33.4         Strip District\n",
      "57                             32.3              Shadyside\n",
      "49                             30.5             Friendship\n",
      "70                             28.3     Point Breeze North\n",
      "14                             27.6       South Side Flats\n",
      "1                              27.4          North Oakland\n",
      "25                             27.4    Squirrel Hill South\n",
      "87                             26.7               West End\n",
      "65                             26.7    Squirrel Hill North\n"
     ]
    }
   ],
   "source": [
    "#Create a Data Frame\n",
    "df= pd.read_csv('Neighborhoods_with_SNAP_Data.csv')\n",
    "\n",
    "#Remove the percent sign and convert type to float\n",
    "df['Edu__Attainment__Bachelor_s_Deg'] = df['Edu__Attainment__Bachelor_s_Deg'].replace(r'[\\%,]', '', regex=True).astype(float)\n",
    "\n",
    "#Sort education decending from greatest to least\n",
    "sortedIncome = df.sort_values(by='Edu__Attainment__Bachelor_s_Deg', ascending=False)\n",
    "\n",
    "# Display the top 10 neighborhoods in terms of education(bachelor's degree)\n",
    "print(sortedIncome[['Edu__Attainment__Bachelor_s_Deg','Neighborhood_2010_HOOD']].head(10))"
   ]
  },
  {
   "cell_type": "markdown",
   "id": "3bc1efc6-dfba-4e9a-bfc6-0e1c5a37071f",
   "metadata": {},
   "source": [
    "# Top 10 neighborhoods by education (Percent with at least a bachelors degree)\n",
    "1. Allegheney west\n",
    "2. Strip District\n",
    "3. Shadyside\n",
    "4. Friendship\n",
    "5. Point Breeze North\n",
    "6. Southside Flats\n",
    "7. North Oakland\n",
    "8. Squirell Hill South\n",
    "9. West End\n",
    "10. Squirell Hill NorthHill North"
   ]
  },
  {
   "cell_type": "code",
   "execution_count": 4,
   "id": "65aa1203-8a02-4a2c-856d-adf1984b1b63",
   "metadata": {},
   "outputs": [
    {
     "ename": "NameError",
     "evalue": "name 'sortedIncome' is not defined",
     "output_type": "error",
     "traceback": [
      "\u001b[0;31m---------------------------------------------------------------------------\u001b[0m",
      "\u001b[0;31mNameError\u001b[0m                                 Traceback (most recent call last)",
      "Cell \u001b[0;32mIn[4], line 1\u001b[0m\n\u001b[0;32m----> 1\u001b[0m top_education_neighborhoods \u001b[38;5;241m=\u001b[39m sortedIncome[[\u001b[38;5;124m'\u001b[39m\u001b[38;5;124mEdu__Attainment__Bachelor_s_Deg\u001b[39m\u001b[38;5;124m'\u001b[39m, \u001b[38;5;124m'\u001b[39m\u001b[38;5;124mNeighborhood_2010_HOOD\u001b[39m\u001b[38;5;124m'\u001b[39m]]\u001b[38;5;241m.\u001b[39mhead(\u001b[38;5;241m10\u001b[39m)\n\u001b[1;32m      3\u001b[0m \u001b[38;5;66;03m# Create a bar plot\u001b[39;00m\n\u001b[1;32m      4\u001b[0m plt\u001b[38;5;241m.\u001b[39mfigure(figsize\u001b[38;5;241m=\u001b[39m(\u001b[38;5;241m12\u001b[39m, \u001b[38;5;241m6\u001b[39m))\n",
      "\u001b[0;31mNameError\u001b[0m: name 'sortedIncome' is not defined"
     ]
    }
   ],
   "source": [
    "top_education_neighborhoods = sortedIncome[['Edu__Attainment__Bachelor_s_Deg', 'Neighborhood_2010_HOOD']].head(10)\n",
    "\n",
    "# Create a bar plot\n",
    "plt.figure(figsize=(12, 6))\n",
    "sns.barplot(\n",
    "    data=top_education_neighborhoods,\n",
    "    x='Edu__Attainment__Bachelor_s_Deg',\n",
    "    y='Neighborhood_2010_HOOD',\n",
    "    palette=\"Purples_r\"\n",
    ")\n",
    "plt.title('Top 10 Neighborhoods by Bachelor\\'s Degree Attainment', fontsize=16)\n",
    "plt.xlabel('Bachelor\\'s Degree Attainment (%)', fontsize=14)\n",
    "plt.ylabel('Neighborhood', fontsize=14)\n",
    "plt.tight_layout()\n",
    "plt.show()\n"
   ]
  },
  {
   "cell_type": "code",
   "execution_count": 20,
   "id": "41bf0706-3122-4b7a-9945-f2a5728feaa0",
   "metadata": {},
   "outputs": [
    {
     "name": "stdout",
     "output_type": "stream",
     "text": [
      "    estimate__aggregate_household_income_in_the_past_12_months__  \\\n",
      "77                                        659886300.0              \n",
      "68                                        605635700.0              \n",
      "76                                        577467500.0              \n",
      "13                                        366945900.0              \n",
      "63                                        314958500.0              \n",
      "53                                        267100700.0              \n",
      "9                                         249898900.0              \n",
      "39                                        242405400.0              \n",
      "36                                        241377900.0              \n",
      "72                                        233098400.0              \n",
      "\n",
      "           Neighborhood  \n",
      "77  Squirrel Hill South  \n",
      "68            Shadyside  \n",
      "76  Squirrel Hill North  \n",
      "13            Brookline  \n",
      "63         Point Breeze  \n",
      "53     Mount Washington  \n",
      "9            Bloomfield  \n",
      "39        Highland Park  \n",
      "36           Greenfield  \n",
      "72     South Side Flats  \n"
     ]
    }
   ],
   "source": [
    "#Create a Data Frame\n",
    "dataFrame = pd.read_csv('AggregateIncome.csv')\n",
    "\n",
    "#Turn the strings in the income column into numerics\n",
    "dataFrame['estimate__aggregate_household_income_in_the_past_12_months__'] = pd.to_numeric(dataFrame['estimate__aggregate_household_income_in_the_past_12_months__'], errors='coerce')\n",
    "\n",
    "#Sort income decending from greatest to least\n",
    "sortedIncome = dataFrame.sort_values(by='estimate__aggregate_household_income_in_the_past_12_months__', ascending=False)\n",
    "\n",
    "# Display the top 10 neighborhoods in terms of aggregate income\n",
    "print(sortedIncome[['estimate__aggregate_household_income_in_the_past_12_months__','Neighborhood']].head(10))"
   ]
  },
  {
   "cell_type": "markdown",
   "id": "e6468d65-a453-4ee1-89cc-290abd4b95eb",
   "metadata": {},
   "source": [
    "## Top 10 Neighborhoods in Total Income\n",
    "1. Squirell Hill South - 659,886,300\n",
    "2. Shadyside - 605,635,700\n",
    "3. Squirrel Hill North - 577,467,500\n",
    "4. Brookline - 366,945,900\n",
    "5. Point Breeze - 314,958,500\n",
    "6. Mount Washington - 267,100,700\n",
    "7. Bloomfield - 249,898,900\n",
    "8. Highland Park - 242,405,400\n",
    "9. Greenfield - 241,377,900\n",
    "10. South Side Flats - 233,098,400"
   ]
  },
  {
   "cell_type": "code",
   "execution_count": 2,
   "id": "35bba82f-991d-466b-941a-f37262cca084",
   "metadata": {},
   "outputs": [
    {
     "name": "stdout",
     "output_type": "stream",
     "text": [
      "    SNAP_All_csv_Median_Home_Value_ Neighborhood_2010_HOOD\n",
      "65                         254667.0    Squirrel Hill North\n",
      "1                          222423.0          North Oakland\n",
      "4                          215900.0         Strip District\n",
      "34                         164000.0           Point Breeze\n",
      "55                         159700.0         Allegheny West\n",
      "57                         153560.0              Shadyside\n",
      "25                         134633.0    Squirrel Hill South\n",
      "49                         115600.0             Friendship\n",
      "68                         113000.0          Regent Square\n",
      "37                          99900.0          Highland Park\n"
     ]
    }
   ],
   "source": [
    "#Create a Data Frame\n",
    "dataFrame = pd.read_csv('Neighborhoods_with_SNAP_Data.csv')\n",
    "\n",
    "#Remove the dollar sign and convert type to float\n",
    "dataFrame['SNAP_All_csv_Median_Home_Value_'] = dataFrame['SNAP_All_csv_Median_Home_Value_'].replace(r'[\\$,]', '', regex=True).astype(float)\n",
    "\n",
    "#Sort income decending from greatest to least\n",
    "sortedIncome = dataFrame.sort_values(by='SNAP_All_csv_Median_Home_Value_', ascending=False)\n",
    "\n",
    "# Display the top 10 neighborhoods in terms of median home value\n",
    "print(sortedIncome[['SNAP_All_csv_Median_Home_Value_','Neighborhood_2010_HOOD']].head(10))"
   ]
  },
  {
   "cell_type": "markdown",
   "id": "74a2bb22-6f42-4786-be01-f24cd99e245e",
   "metadata": {},
   "source": [
    "## Top 10 Neighborhoods by Median Home Value\n",
    "1. Squirrel Hill North - 254,667\n",
    "2. North Oakland - 222,423\n",
    "3. Strip District - 215,900\n",
    "4. Point Breeze - 164,000\n",
    "5. Allegheny West - 159,700\n",
    "6. Shadyside - 153,560\n",
    "7. Squirrel Hill South - 134,633\n",
    "8. Friendship - 115,600\n",
    "9. Regent Square - 113,000\n",
    "10. Highland Park - 99,900- 99,900"
   ]
  },
  {
   "cell_type": "markdown",
   "id": "00b2e96c-c6ff-43d0-8600-dc77b38575ba",
   "metadata": {},
   "source": [
    "Each of these submetrics dictate the amount of wealth in the neighborhoods, which is an important thing to consider when picking a place to live. Low-income directly translates to crime, so you want to pick a place that is generally wealthy. This is important not only from a crime standpoint, but if also leads to better overall cleanliness, more shopping and food options, etc."
   ]
  },
  {
   "cell_type": "markdown",
   "id": "3ec400e3-835d-45a3-99cd-339eac905088",
   "metadata": {},
   "source": [
    "# Conclusion\n",
    "The total ranking for the overall safest neighborhood was determined by how well-educated the area is, how many arrests there were, how much income there is in the area, and what the median home value is. This means that the neighborhood that ranks highest the most often would be considered the best. The rankings are shown here:\n",
    "| Neighborhoods (Ranked)     | Total Points | Education | Median Home Value | Aggregate Income | Arrests |\r\n",
    "|----------------------------|--------------|-----------|-------------------|------------------|---------|\r\n",
    "| Shadyside                  | 22           | 3         | 6                 | 2                | 11      |\r\n",
    "| Squirrel Hill North        | 25           | 10        | 1                 | 3                | 11      |\r\n",
    "| Squirrel Hill South        | 27           | 8         | 7                 | 1                | 11      |\r\n",
    "| Strip District             | 27           | 2         | 3                 | 11               | 11      |\r\n",
    "| Allegheny West             | 28           | 1         | 5                 | 11               | 11      |\r\n",
    "| North Oakland              | 31           | 7         | 2                 | 11               | 11      |\r\n",
    "| Point Breeze               | 31           | 11        | 4                 | 5                | 11      |\r\n",
    "| Mt. Oliver Neighborhood    | 34           | 11        | 11                | 11               | 1       |\r\n",
    "| Friendship                 | 34           | 4         | 8                 | 11               | 11      |\r\n",
    "| Troy Hill-Herrs Island     | 35           | 11        | 11                | 11               | 2       |\r\n",
    "| Mt. Oliver Boro            | 36           | 11        | 11                | 11               | 3       |\r\n",
    "| Brookline                  | 37           | 11        | 11                | 4                | 11      |\r\n",
    "| Central Northside          | 37           | 11        | 11                | 11               | 4       |\r\n",
    "| Regent Square              | 37           | 11        | 9                 | 11               | 6       |\r\n",
    "| Point Breeze North         | 38           | 5         | 11                | 11               | 11      |\r\n",
    "| South Side Flats           | 38           | 6         | 11                | 10               | 11      |\r\n",
    "| Ridgemont                  | 38           | 11        | 11                | 11               | 5       |\r\n",
    "| Mount Washington           | 39           | 11        | 11                | 6                | 11      |\r\n",
    "| Highland Park              | 40           | 11        | 10                | 8                | 11      |\r\n",
    "| Bloomfield                 | 40           | 11        | 11                | 7                | 11      |\r\n",
    "| New Homestead              | 40           | 11        | 11                | 11               | 7       |\r\n",
    "| Swisshelm Park             | 41           | 11        | 11                | 11               | 8       |\r\n",
    "| West End                   | 42           | 9         | 11                | 11               | 11      |\r\n",
    "| Greenfield                 | 42           | 11        | 11                | 9                | 11      |\r\n",
    "| Chartiers City             | 42           | 11        | 11                | 11               | 9       |\r\n",
    "| East Carnegie              | 43           | 11        | 11                | 11ide               | 10      |\r\n"
   ]
  },
  {
   "cell_type": "markdown",
   "id": "01ecb4b7-8e97-4780-a4c2-77cf59e2e932",
   "metadata": {},
   "source": [
    "This ranking was determined by adding the positions of each neighborhood from the top 10 of each submetric. If a neighborhood was not located on a specific list, it was automatically assigned an 11.\n",
    "\n",
    "Based on each of our submetrics, the best neighborhood to live in in Pittsburgh is:\n",
    "## Shadyside"
   ]
  },
  {
   "cell_type": "code",
   "execution_count": null,
   "id": "e3471e88-8055-480f-8c80-08caf0a3ff4a",
   "metadata": {},
   "outputs": [],
   "source": []
  }
 ],
 "metadata": {
  "kernelspec": {
   "display_name": "Python 3 (ipykernel)",
   "language": "python",
   "name": "python3"
  },
  "language_info": {
   "codemirror_mode": {
    "name": "ipython",
    "version": 3
   },
   "file_extension": ".py",
   "mimetype": "text/x-python",
   "name": "python",
   "nbconvert_exporter": "python",
   "pygments_lexer": "ipython3",
   "version": "3.12.4"
  }
 },
 "nbformat": 4,
 "nbformat_minor": 5
}
