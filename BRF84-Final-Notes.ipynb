{
 "cells": [
  {
   "cell_type": "code",
   "execution_count": 11,
   "id": "a73cee07-feaa-453b-be04-459ec0fe6d86",
   "metadata": {
    "scrolled": true
   },
   "outputs": [
    {
     "name": "stdout",
     "output_type": "stream",
     "text": [
      "    estimate__aggregate_household_income_in_the_past_12_months__  \\\n",
      "15                                        659886300.0              \n",
      "20                                        605635700.0              \n",
      "23                                        577467500.0              \n",
      "44                                        366945900.0              \n",
      "50                                        314958500.0              \n",
      "55                                        267100700.0              \n",
      "58                                        249898900.0              \n",
      "59                                        242405400.0              \n",
      "60                                        241377900.0              \n",
      "63                                        233098400.0              \n",
      "\n",
      "           Neighborhood  \n",
      "15  Squirrel Hill South  \n",
      "20            Shadyside  \n",
      "23  Squirrel Hill North  \n",
      "44            Brookline  \n",
      "50         Point Breeze  \n",
      "55     Mount Washington  \n",
      "58           Bloomfield  \n",
      "59        Highland Park  \n",
      "60           Greenfield  \n",
      "63     South Side Flats  \n"
     ]
    }
   ],
   "source": [
    "import pandas as pd\n",
    "\n",
    "#Create a Data Frame\n",
    "dataFrame = pd.read_csv('AggregateIncome.csv')\n",
    "\n",
    "#Turn the strings in the income column into numerics\n",
    "dataFrame['estimate__aggregate_household_income_in_the_past_12_months__'] = pd.to_numeric(dataFrame['estimate__aggregate_household_income_in_the_past_12_months__'], errors='coerce')\n",
    "\n",
    "#Sort income decending from greatest to least\n",
    "sortedIncome = dataFrame.sort_values(by='estimate__aggregate_household_income_in_the_past_12_months__', ascending=False)\n",
    "\n",
    "# Display the top 10 neighborhoods in terms of aggregate income\n",
    "print(sortedIncome[['estimate__aggregate_household_income_in_the_past_12_months__','Neighborhood']].head(10))\n"
   ]
  },
  {
   "cell_type": "markdown",
   "id": "ff0bc75d-32f2-49b7-ab07-bcf4d6a456f3",
   "metadata": {},
   "source": [
    "## Top 10 Neighborhoods in Total Income\n",
    "1. Squirell Hill South - 659,886,300\n",
    "2. Shadyside - 605,635,700\n",
    "3. Squirrel Hill North - 577,467,500\n",
    "4. Brookline - 366,945,900\n",
    "5. Point Breeze - 314,958,500\n",
    "6. Mount Washington - 267,100,700\n",
    "7. Bloomfield - 249,898,900\n",
    "8. Highland Park - 242,405,400\n",
    "9. Greenfield - 241,377,900\n",
    "10. South Side Flats - 233,098,400"
   ]
  },
  {
   "cell_type": "code",
   "execution_count": 7,
   "id": "61323c00-4c2f-401d-9eab-5d3416ffe14e",
   "metadata": {},
   "outputs": [
    {
     "name": "stdout",
     "output_type": "stream",
     "text": [
      "    SNAP_All_csv_Median_Home_Value_ Neighborhood_2010_HOOD\n",
      "65                         254667.0    Squirrel Hill North\n",
      "1                          222423.0          North Oakland\n",
      "4                          215900.0         Strip District\n",
      "34                         164000.0           Point Breeze\n",
      "55                         159700.0         Allegheny West\n",
      "57                         153560.0              Shadyside\n",
      "25                         134633.0    Squirrel Hill South\n",
      "49                         115600.0             Friendship\n",
      "68                         113000.0          Regent Square\n",
      "37                          99900.0          Highland Park\n"
     ]
    }
   ],
   "source": [
    "#Create a Data Frame\n",
    "dataFrame = pd.read_csv('Neighborhoods_with_SNAP_Data.csv')\n",
    "\n",
    "#Remove the dollar sign and convert type to float\n",
    "dataFrame['SNAP_All_csv_Median_Home_Value_'] = dataFrame['SNAP_All_csv_Median_Home_Value_'].replace(r'[\\$,]', '', regex=True).astype(float)\n",
    "\n",
    "#Sort income decending from greatest to least\n",
    "sortedIncome = dataFrame.sort_values(by='SNAP_All_csv_Median_Home_Value_', ascending=False)\n",
    "\n",
    "# Display the top 10 neighborhoods in terms of median home value\n",
    "print(sortedIncome[['SNAP_All_csv_Median_Home_Value_','Neighborhood_2010_HOOD']].head(10))"
   ]
  },
  {
   "cell_type": "markdown",
   "id": "52c296a2-8332-4da3-95cf-2fabce9c2f6c",
   "metadata": {},
   "source": [
    "## Top 10 Neighborhoods by Median Home Value\n",
    "1. Squirrel Hill North - 254,667\n",
    "2. North Oakland - 222,423\n",
    "3. Strip District - 215,900\n",
    "4. Point Breeze - 164,000\n",
    "5. Allegheny West - 159,700\n",
    "6. Shadyside - 153,560\n",
    "7. Squirrel Hill South - 134,633\n",
    "8. Friendship - 115,600\n",
    "9. Regent Square - 113,000\n",
    "10. Highland Park - 99,900"
   ]
  },
  {
   "cell_type": "markdown",
   "id": "876b36e3-29a8-42a1-978f-550e4223ffa4",
   "metadata": {},
   "source": [
    "Each of these submetrics dictate the amount of wealth in the neighborhoods, which is an important thing to consider when picking a place to live. Low-income directly translates to crime, so you want to pick a place that is generally wealthy. This is important not only from a crime standpoint, but if also leads to better overall cleanliness, more shopping and food options, etc."
   ]
  },
  {
   "cell_type": "code",
   "execution_count": null,
   "id": "71e965ed-56da-4216-9b34-33091ec516dd",
   "metadata": {},
   "outputs": [],
   "source": []
  }
 ],
 "metadata": {
  "kernelspec": {
   "display_name": "Python 3 (ipykernel)",
   "language": "python",
   "name": "python3"
  },
  "language_info": {
   "codemirror_mode": {
    "name": "ipython",
    "version": 3
   },
   "file_extension": ".py",
   "mimetype": "text/x-python",
   "name": "python",
   "nbconvert_exporter": "python",
   "pygments_lexer": "ipython3",
   "version": "3.12.4"
  }
 },
 "nbformat": 4,
 "nbformat_minor": 5
}
