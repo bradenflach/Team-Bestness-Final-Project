{
 "cells": [
  {
   "cell_type": "code",
   "execution_count": 11,
   "id": "a73cee07-feaa-453b-be04-459ec0fe6d86",
   "metadata": {
    "scrolled": true
   },
   "outputs": [
    {
     "name": "stdout",
     "output_type": "stream",
     "text": [
      "    estimate__aggregate_household_income_in_the_past_12_months__  \\\n",
      "15                                        659886300.0              \n",
      "20                                        605635700.0              \n",
      "23                                        577467500.0              \n",
      "44                                        366945900.0              \n",
      "50                                        314958500.0              \n",
      "55                                        267100700.0              \n",
      "58                                        249898900.0              \n",
      "59                                        242405400.0              \n",
      "60                                        241377900.0              \n",
      "63                                        233098400.0              \n",
      "\n",
      "           Neighborhood  \n",
      "15  Squirrel Hill South  \n",
      "20            Shadyside  \n",
      "23  Squirrel Hill North  \n",
      "44            Brookline  \n",
      "50         Point Breeze  \n",
      "55     Mount Washington  \n",
      "58           Bloomfield  \n",
      "59        Highland Park  \n",
      "60           Greenfield  \n",
      "63     South Side Flats  \n"
     ]
    }
   ],
   "source": [
    "import pandas as pd\n",
    "\n",
    "#Create a Data Frame\n",
    "dataFrame = pd.read_csv('AggregateIncome.csv')\n",
    "\n",
    "#Turn the strings in the income column into numerics\n",
    "dataFrame['estimate__aggregate_household_income_in_the_past_12_months__'] = pd.to_numeric(dataFrame['estimate__aggregate_household_income_in_the_past_12_months__'], errors='coerce')\n",
    "\n",
    "#Sort income decending from greatest to least\n",
    "sortedIncome = dataFrame.sort_values(by='estimate__aggregate_household_income_in_the_past_12_months__', ascending=False)\n",
    "\n",
    "# Display the top 10 neighborhoods in terms of aggregate income\n",
    "print(sortedIncome[['estimate__aggregate_household_income_in_the_past_12_months__','Neighborhood']].head(10))\n"
   ]
  },
  {
   "cell_type": "markdown",
   "id": "ff0bc75d-32f2-49b7-ab07-bcf4d6a456f3",
   "metadata": {},
   "source": [
    "## Top 10 Neighborhoods in Total Income\n",
    "1. Squirell Hill South - 659,886,300\n",
    "2. Shadyside - 605,635,700\n",
    "3. Squirrel Hill North - 577,467,500\n",
    "4. Brookline - 366,945,900\n",
    "5. Point Breeze - 314,958,500\n",
    "6. Mount Washington - 267,100,700\n",
    "7. Bloomfield - 249,898,900\n",
    "8. Highland Park - 242,405,400\n",
    "9. Greenfield - 241,377,900\n",
    "10. South Side Flats - 233,098,400"
   ]
  },
  {
   "cell_type": "code",
   "execution_count": 7,
   "id": "61323c00-4c2f-401d-9eab-5d3416ffe14e",
   "metadata": {},
   "outputs": [
    {
     "name": "stdout",
     "output_type": "stream",
     "text": [
      "    SNAP_All_csv_Median_Home_Value_ Neighborhood_2010_HOOD\n",
      "65                         254667.0    Squirrel Hill North\n",
      "1                          222423.0          North Oakland\n",
      "4                          215900.0         Strip District\n",
      "34                         164000.0           Point Breeze\n",
      "55                         159700.0         Allegheny West\n",
      "57                         153560.0              Shadyside\n",
      "25                         134633.0    Squirrel Hill South\n",
      "49                         115600.0             Friendship\n",
      "68                         113000.0          Regent Square\n",
      "37                          99900.0          Highland Park\n"
     ]
    }
   ],
   "source": [
    "#Create a Data Frame\n",
    "dataFrame = pd.read_csv('Neighborhoods_with_SNAP_Data.csv')\n",
    "\n",
    "#Remove the dollar sign and convert type to float\n",
    "dataFrame['SNAP_All_csv_Median_Home_Value_'] = dataFrame['SNAP_All_csv_Median_Home_Value_'].replace(r'[\\$,]', '', regex=True).astype(float)\n",
    "\n",
    "#Sort income decending from greatest to least\n",
    "sortedIncome = dataFrame.sort_values(by='SNAP_All_csv_Median_Home_Value_', ascending=False)\n",
    "\n",
    "# Display the top 10 neighborhoods in terms of median home value\n",
    "print(sortedIncome[['SNAP_All_csv_Median_Home_Value_','Neighborhood_2010_HOOD']].head(10))"
   ]
  },
  {
   "cell_type": "markdown",
   "id": "52c296a2-8332-4da3-95cf-2fabce9c2f6c",
   "metadata": {},
   "source": [
    "## Top 10 Neighborhoods by Median Home Value\n",
    "1. Squirrel Hill North - 254,667\n",
    "2. North Oakland - 222,423\n",
    "3. Strip District - 215,900\n",
    "4. Point Breeze - 164,000\n",
    "5. Allegheny West - 159,700\n",
    "6. Shadyside - 153,560\n",
    "7. Squirrel Hill South - 134,633\n",
    "8. Friendship - 115,600\n",
    "9. Regent Square - 113,000\n",
    "10. Highland Park - 99,900"
   ]
  },
  {
   "cell_type": "code",
   "execution_count": 10,
   "id": "703988be-9d20-44c7-9133-5a0861740b13",
   "metadata": {},
   "outputs": [
    {
     "name": "stdout",
     "output_type": "stream",
     "text": [
      "    Edu__Attainment__Bachelor_s_Deg Neighborhood_2010_HOOD\n",
      "55                             44.8         Allegheny West\n",
      "4                              33.4         Strip District\n",
      "57                             32.3              Shadyside\n",
      "49                             30.5             Friendship\n",
      "70                             28.3     Point Breeze North\n",
      "14                             27.6       South Side Flats\n",
      "1                              27.4          North Oakland\n",
      "25                             27.4    Squirrel Hill South\n",
      "87                             26.7               West End\n",
      "65                             26.7    Squirrel Hill North\n"
     ]
    }
   ],
   "source": [
    "#Create a Data Frame\n",
    "dataFrame = pd.read_csv('Neighborhoods_with_SNAP_Data.csv')\n",
    "\n",
    "#Remove the percent sign and convert type to float\n",
    "dataFrame['Edu__Attainment__Bachelor_s_Deg'] = dataFrame['Edu__Attainment__Bachelor_s_Deg'].replace(r'[\\%,]', '', regex=True).astype(float)\n",
    "\n",
    "#Sort education decending from greatest to least\n",
    "sortedIncome = dataFrame.sort_values(by='Edu__Attainment__Bachelor_s_Deg', ascending=False)\n",
    "\n",
    "# Display the top 10 neighborhoods in terms of education(bachelor's degree)\n",
    "print(sortedIncome[['Edu__Attainment__Bachelor_s_Deg','Neighborhood_2010_HOOD']].head(10))"
   ]
  },
  {
   "cell_type": "markdown",
   "id": "5a401771-5472-4d08-9ac1-282d1c963dfe",
   "metadata": {},
   "source": [
    "## Top 10 Neighborhoods by Education (By percent with at least a bachelor's degree)\n",
    "1. Allegheny West - 44.8\n",
    "3. Strip District - 33.4\n",
    "4. Shadyside - 32.3\n",
    "5. Friendship - 30.5\n",
    "6. Point Breeze North - 28.3\n",
    "7. South Side Flats - 27.6\n",
    "8. North Oakland - 27.4\n",
    "9. Squirrel Hill South - 27.4\n",
    "10. West End - 26.7\n",
    "11. Squirrel Hill North - 26.7"
   ]
  },
  {
   "cell_type": "markdown",
   "id": "db61b574-2af7-4cde-8587-e2cfbf809096",
   "metadata": {},
   "source": [
    "## Conclusion\n",
    "The same neighborhoods consistently show up on each list. Based on the data from these 3 sets, the new list will look like this:\n",
    "1. Shadyside\n",
    "2. Squirrel Hill North/Point Breeze \n",
    "4. Squirrel Hill South/Strip District\n",
    "5. Allegheny West\n",
    "6. North Oakland\t \n",
    "8. Friendship\n",
    "9. Brookline\n",
    "10. South Side Flats\n",
    "11. Mount Washington\n",
    "12. Highland Park/Bloomfield\n",
    "14. West End/Regent Square/Greenfield"
   ]
  },
  {
   "cell_type": "markdown",
   "id": "97ea4fee-f2a4-4117-93a3-182532a9e965",
   "metadata": {},
   "source": [
    "In order to determine this conclusion, I assigned a value to each neighborhood based on its rank in each list. If it was not present on a certain list, it was automatically assigned an 11. Otherwise, it was assigned a point for its position on each list, from 1-10. Shadyside was the one that appeared highest on the list most often\n",
    "| Neighborhood          | List 1 Rank | List 2 Rank | List 3 Rank | Total Rank |\n",
    "|-----------------------|-------------|-------------|-------------|------------|\n",
    "| Shadyside             | 3           | 6           | 2           | 11         |\n",
    "| Squirrel Hill North   | 10          | 1           | 3           | 14         |\n",
    "| Point Breeze          | 5           | 4           | 5           | 14         |\n",
    "| Squirrel Hill South   | 8           | 7           | 1           | 16         |\n",
    "| Strip District        | 2           | 3           | 11          | 16         |\n",
    "| Allegheny West        | 1           | 5           | 11          | 17         |\n",
    "| North Oakland         | 7           | 2           | 11          | 20         |\n",
    "| Friendship            | 4           | 8           | 11          | 23         |\n",
    "| Brookline             | 11          | 11          | 4           | 26         |\n",
    "| South Side Flats      | 6           | 11          | 10          | 27         |\n",
    "| Mount Washington      | 11          | 11          | 6           | 28         |\n",
    "| Highland Park         | 11          | 10          | 8           | 29         |\n",
    "| Bloomfield            | 11          | 11          | 7           | 29         |\n",
    "| West End              | 9           | 11          | 11          | 31         |\n",
    "| Regent Square         | 11          | 9           | 11          | 31         |\n",
    "| Greenfield            | 11          | 11          | 9           | 31         |\n"
   ]
  },
  {
   "cell_type": "code",
   "execution_count": null,
   "id": "8fa3b84d-94a5-41f9-a6cb-22c39b9736f5",
   "metadata": {},
   "outputs": [],
   "source": []
  }
 ],
 "metadata": {
  "kernelspec": {
   "display_name": "Python 3 (ipykernel)",
   "language": "python",
   "name": "python3"
  },
  "language_info": {
   "codemirror_mode": {
    "name": "ipython",
    "version": 3
   },
   "file_extension": ".py",
   "mimetype": "text/x-python",
   "name": "python",
   "nbconvert_exporter": "python",
   "pygments_lexer": "ipython3",
   "version": "3.12.4"
  }
 },
 "nbformat": 4,
 "nbformat_minor": 5
}
