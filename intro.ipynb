{
 "cells": [
  {
   "cell_type": "markdown",
   "id": "ab110dd1-c926-4732-b9f2-7bc4a557a6fc",
   "metadata": {},
   "source": [
    "## Introduction\n",
    "# We started our project by thinking of what metrics we felt would lead us to picking the overall best neighborhood in pittsburgh. We first thought about possibly looking into weather data or air qaulity but felt like that would be hard to determine becasue a lot of the neighborhoods would share very similar data for metrics like that. We then transitioned and decided to look into metrics that would have more variability between neigborhood lines so we decided that the best metrics to provide evidence for the overall safest and best neighborhood was by how well-educated the area is, how many arrests there were, how much income there is in the area, and what the median home value is. We figured that with Pittsburgh being a rapidly growing and changing city if people were looking at were to move their family or just themsleves if they are young professionals they would want an area that they feel safe as well that has a true Pittsburgh feel. Living in an area with a lot of similarly well educated people is a great way to form connections as well as network for a career. We felt that eduacation was a strong metric for this reason. Median home value and Income are a similar metric. With Pittsburgh being an older city a lot of the homes are very old and historic. typically theolder the home if it is still in good condition the more expensive and sought after that home Will be. Income fits into this well. The more income one person has the higher chnaces they will be able to afford a home in our neighborhood. Finally this leaves us witht the metric of safety. we used an arrest dataset to determine the safety of the neighborhods we were looking at. With arrest and incident counts we were able to determine the average arrest count per year of each neighborhood in Pittsburgh.AFter completing our analysis we Determined that the overall best neighborhood in Pittsburgh to live in is Shadyside. After combing all of our metrics and assinging weights to their overall value in each category we looked at Shady side was the overall best score out of all neighborhoods. \n",
    "# Shadyside does happen to be my favorite neighborhood in Pittsburgh. The amount of shops and restaraunts as well as the architectrue of the homes. I also work in shadysie at a restaraunt called Noodlehead, so i have a little bias. Im honeslty not surpirsed that shadyside scpored best for our metrics just based on what i know about the neighboorhood. Shdayside is one of the fastet grwoing neighbor=orhoods in pittsburgh with a lot of young professionals and post grad students moving their to try and start thier adult lives and careers. "
   ]
  },
  {
   "cell_type": "code",
   "execution_count": null,
   "id": "ddb5a530-f455-4f9d-97e1-292ba3d83647",
   "metadata": {},
   "outputs": [],
   "source": []
  }
 ],
 "metadata": {
  "kernelspec": {
   "display_name": "Python 3 (ipykernel)",
   "language": "python",
   "name": "python3"
  },
  "language_info": {
   "codemirror_mode": {
    "name": "ipython",
    "version": 3
   },
   "file_extension": ".py",
   "mimetype": "text/x-python",
   "name": "python",
   "nbconvert_exporter": "python",
   "pygments_lexer": "ipython3",
   "version": "3.12.4"
  }
 },
 "nbformat": 4,
 "nbformat_minor": 5
}
